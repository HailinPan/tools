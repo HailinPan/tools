{
 "cells": [
  {
   "cell_type": "code",
   "execution_count": 1,
   "id": "b8c56e38-b094-443f-b0fb-f854c7e4c34d",
   "metadata": {},
   "outputs": [],
   "source": [
    "import tracemalloc\n",
    "import time\n",
    "import numpy as np"
   ]
  },
  {
   "cell_type": "markdown",
   "id": "d7d61e17-16d8-42f2-880a-88b4f391dff7",
   "metadata": {},
   "source": [
    "# define the function that record memory and time cost"
   ]
  },
  {
   "cell_type": "markdown",
   "id": "66e8a163-9f48-4e9c-bd10-72b2284931cb",
   "metadata": {},
   "source": [
    "this is the function to record memory and time cost"
   ]
  },
  {
   "cell_type": "code",
   "execution_count": 2,
   "id": "ce4ac74a-81a5-4f84-bff9-2c18211e0210",
   "metadata": {},
   "outputs": [],
   "source": [
    "def memory_time_profile(func):\n",
    "    '''calculate memory and time used for a python function\n",
    "        \n",
    "        memory: in byte, if want MB, need to devide by 1024*1024\n",
    "        time: in second\n",
    "\n",
    "        Usage:\n",
    "            for a function call app(), defind it with decorator:\n",
    "            @memory_time_profile\n",
    "            app():\n",
    "                do something\n",
    "\n",
    "            then use it:\n",
    "            result_of_app, mem_used, time_used = app()\n",
    "    Args:\n",
    "        func: function to call\n",
    "    \n",
    "    Returns:\n",
    "        result: the reslut of func\n",
    "        memory_dict: a dict contain 'current_size' and 'peak_size' used\n",
    "        time: used time\n",
    "            \n",
    "    '''\n",
    "    def wrapper(*args, **kwargs):\n",
    "        tracemalloc.start()\n",
    "        s_time = time.time()\n",
    "        result = func(*args, **kwargs)\n",
    "        e_time = time.time()\n",
    "        memory_dict = dict(zip(['current_size', 'peak_size'], tracemalloc.get_traced_memory()))\n",
    "        tracemalloc.stop()\n",
    "        return (result, memory_dict, e_time-s_time)\n",
    "    return wrapper"
   ]
  },
  {
   "cell_type": "markdown",
   "id": "016cf467-d444-4eca-b5f4-bd04d35f9dbf",
   "metadata": {},
   "source": [
    "# defind an app function you want to record its memory and time consumption"
   ]
  },
  {
   "cell_type": "markdown",
   "id": "b7d55618-22c1-4861-a329-07d4f77ac538",
   "metadata": {},
   "source": [
    "if app function returns something"
   ]
  },
  {
   "cell_type": "code",
   "execution_count": 3,
   "id": "eb657750-1d40-4b2b-834d-9b96e5507003",
   "metadata": {},
   "outputs": [],
   "source": [
    "@memory_time_profile\n",
    "def app_with_return():\n",
    "    lt = []\n",
    "    for i in range(0, 100000):\n",
    "        lt.append(i)\n",
    "    return np.array(lt)"
   ]
  },
  {
   "cell_type": "markdown",
   "id": "f949ed57-99ff-4a67-ad0e-902367520526",
   "metadata": {},
   "source": [
    "if app function returns nothing"
   ]
  },
  {
   "cell_type": "code",
   "execution_count": 4,
   "id": "9d972f99-1bb7-40ae-9a23-752695c0b011",
   "metadata": {},
   "outputs": [],
   "source": [
    "@memory_time_profile\n",
    "def app_without_return():\n",
    "    lt = []\n",
    "    for i in range(0, 100000):\n",
    "        lt.append(i)"
   ]
  },
  {
   "cell_type": "markdown",
   "id": "c0563979-91ae-4692-b806-bd1404d3f086",
   "metadata": {},
   "source": [
    "# how to use"
   ]
  },
  {
   "cell_type": "markdown",
   "id": "6ca5f2c5-d58d-421d-85f2-20e42a09332b",
   "metadata": {},
   "source": [
    "use app function as what it should be, it returns three contents. The first is what app function return, then is a dict to show memory cost in byte, the last is the time cost in second"
   ]
  },
  {
   "cell_type": "code",
   "execution_count": 5,
   "id": "76c2f327-c20e-4e5d-b4a0-9278e004f08a",
   "metadata": {},
   "outputs": [
    {
     "name": "stdout",
     "output_type": "stream",
     "text": [
      "result_of_app: [    0     1     2 ... 99997 99998 99999]\n",
      "mem_used: {'current_size': 801082, 'peak_size': 4418270}\n",
      "time_used: 0.10431885719299316\n"
     ]
    }
   ],
   "source": [
    "result_of_app, mem_used, time_used = app_with_return()\n",
    "print(f'result_of_app: {result_of_app}\\nmem_used: {mem_used}\\ntime_used: {time_used}')"
   ]
  },
  {
   "cell_type": "markdown",
   "id": "4fa11de5-44f1-442d-a63b-dfad14bf77a1",
   "metadata": {},
   "source": [
    "if the app function return nothing, the first content is None"
   ]
  },
  {
   "cell_type": "code",
   "execution_count": 6,
   "id": "9d725f7b-1475-4fa1-bdb7-572303b864fc",
   "metadata": {},
   "outputs": [
    {
     "name": "stdout",
     "output_type": "stream",
     "text": [
      "result_of_app: None\n",
      "mem_used: {'current_size': 5481, 'peak_size': 3622902}\n",
      "time_used: 0.04453396797180176\n"
     ]
    }
   ],
   "source": [
    "result_of_app, mem_used, time_used = app_without_return()\n",
    "print(f'result_of_app: {result_of_app}\\nmem_used: {mem_used}\\ntime_used: {time_used}')"
   ]
  }
 ],
 "metadata": {
  "kernelspec": {
   "display_name": "spateo",
   "language": "python",
   "name": "spateo"
  },
  "language_info": {
   "codemirror_mode": {
    "name": "ipython",
    "version": 3
   },
   "file_extension": ".py",
   "mimetype": "text/x-python",
   "name": "python",
   "nbconvert_exporter": "python",
   "pygments_lexer": "ipython3",
   "version": "3.8.0"
  }
 },
 "nbformat": 4,
 "nbformat_minor": 5
}
