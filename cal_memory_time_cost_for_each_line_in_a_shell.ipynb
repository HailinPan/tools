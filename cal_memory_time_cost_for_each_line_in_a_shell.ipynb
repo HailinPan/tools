{
 "cells": [
  {
   "cell_type": "code",
   "execution_count": 1,
   "id": "cbcaf112-f4cc-4005-9905-8c290001d7fa",
   "metadata": {},
   "outputs": [],
   "source": [
    "import subprocess\n",
    "import time\n",
    "import numpy as np\n",
    "import pandas as pd\n",
    "import os"
   ]
  },
  {
   "cell_type": "markdown",
   "id": "e9954439-6ed4-4b83-a89a-63b950a0ada0",
   "metadata": {},
   "source": [
    "# set a shell file\n",
    "each line in this file is a job to trace, it could be any commomd line"
   ]
  },
  {
   "cell_type": "raw",
   "id": "ed2ad620-01b0-4203-8c0f-02749204b729",
   "metadata": {},
   "source": [
    "# test.sh\n",
    "python tmp.py 1\n",
    "python tmp.py 2"
   ]
  },
  {
   "cell_type": "markdown",
   "id": "752156a5-3459-4cb1-bbe2-43a5ed6bd51e",
   "metadata": {},
   "source": [
    "# tmp.py file\n",
    "it could be anything"
   ]
  },
  {
   "cell_type": "raw",
   "id": "491e19b2-cec2-4a5a-b464-4f499d6a4a9c",
   "metadata": {},
   "source": [
    "import os\n",
    "import time\n",
    "import sys\n",
    "\n",
    "print(sys.argv[1])\n",
    "a = [1,2,3]\n",
    "print(a)\n",
    "time.sleep(5)\n",
    "b = [i for i in range(10000000)]\n",
    "time.sleep(5)\n",
    "\n",
    "print('finish')"
   ]
  },
  {
   "cell_type": "markdown",
   "id": "7539e671-90c0-477e-a1c9-69ec34482ad8",
   "metadata": {},
   "source": [
    "# functions to trace memory and time"
   ]
  },
  {
   "cell_type": "code",
   "execution_count": 2,
   "id": "0552c741-c483-4a5b-8e14-414930b1856c",
   "metadata": {},
   "outputs": [],
   "source": [
    "def mem_of_one_line(lines, sleep_time): # lines: a list\n",
    "    proc = subprocess.Popen(lines)\n",
    "    pid = proc.pid\n",
    "    info_dict = get_mem_of_a_pid(pid, sleep_time)\n",
    "    return info_dict['VmHWM:'], info_dict['VmRSS:'] # peak RAM, current RAM\n",
    "    \n",
    "def str_in_kb_to_float_in_byte(text):\n",
    "    if not 'kB' in text:\n",
    "        print('please check if the VmHWM and VmRSS in /proc/PID/status file are in kB')\n",
    "    return float(text.replace('kB', ''))*1024\n",
    "\n",
    "def get_info(status_file):\n",
    "    f = open(status_file, 'rt')\n",
    "    need_to_be_extracted = ['State:', 'VmHWM:', 'VmRSS:']\n",
    "    info_dict = {}\n",
    "    for line in f:\n",
    "        lines = line.strip().split('\\t')\n",
    "        if np.isin(lines[0], need_to_be_extracted):\n",
    "            info_dict[lines[0]] = lines[1]\n",
    "    if 'VmHWM:' in info_dict and 'VmRSS:' in info_dict:\n",
    "        info_dict['VmHWM:'] = str_in_kb_to_float_in_byte(info_dict['VmHWM:'])\n",
    "        info_dict['VmRSS:'] = str_in_kb_to_float_in_byte(info_dict['VmRSS:'])\n",
    "\n",
    "    return info_dict\n",
    "\n",
    "def get_mem_of_a_pid(pid, sleep_time):\n",
    "    status_file = f'/proc/{pid}/status'\n",
    "    info_dict_previous = get_info(status_file)\n",
    "    # print(pid)\n",
    "    while(True):\n",
    "        info_dict_now = get_info(status_file)\n",
    "        if 'Z' in info_dict_now['State:'] or not os.path.exists(status_file):\n",
    "            # print(info_dict_now)\n",
    "            return info_dict_previous\n",
    "        else:\n",
    "            info_dict_previous = info_dict_now\n",
    "            time.sleep(sleep_time)\n",
    "\n",
    "def get_mem_and_time_of_a_shell(shell_file, time_interval_of_two_traces=10):\n",
    "    # mem in byte, time in second\n",
    "    f = open(shell_file, 'rt')\n",
    "    peak_rams, curr_rams, times = [], [], []\n",
    "    for line in f:\n",
    "        lines = line.strip().split()\n",
    "        s = time.time()\n",
    "        peak, curr = mem_of_one_line(lines, time_interval_of_two_traces)\n",
    "        e = time.time()\n",
    "        peak_rams.append(peak)\n",
    "        curr_rams.append(curr)\n",
    "        times.append(e-s)\n",
    "    return pd.DataFrame({'peak_size': peak_rams, 'current_size': curr_rams, 'time': times})"
   ]
  },
  {
   "cell_type": "markdown",
   "id": "18b54c7e-89f3-4ecc-95b6-88a27ece98e0",
   "metadata": {},
   "source": [
    "# how to use"
   ]
  },
  {
   "cell_type": "code",
   "execution_count": 3,
   "id": "3d7a81a6-c80f-49b0-b084-bae5e1aae31f",
   "metadata": {},
   "outputs": [
    {
     "name": "stdout",
     "output_type": "stream",
     "text": [
      "1\n",
      "[1, 2, 3]\n",
      "finish\n",
      "2\n",
      "[1, 2, 3]\n",
      "finish\n"
     ]
    },
    {
     "data": {
      "text/html": [
       "<div>\n",
       "<style scoped>\n",
       "    .dataframe tbody tr th:only-of-type {\n",
       "        vertical-align: middle;\n",
       "    }\n",
       "\n",
       "    .dataframe tbody tr th {\n",
       "        vertical-align: top;\n",
       "    }\n",
       "\n",
       "    .dataframe thead th {\n",
       "        text-align: right;\n",
       "    }\n",
       "</style>\n",
       "<table border=\"1\" class=\"dataframe\">\n",
       "  <thead>\n",
       "    <tr style=\"text-align: right;\">\n",
       "      <th></th>\n",
       "      <th>peak_size</th>\n",
       "      <th>current_size</th>\n",
       "      <th>time</th>\n",
       "    </tr>\n",
       "  </thead>\n",
       "  <tbody>\n",
       "    <tr>\n",
       "      <th>0</th>\n",
       "      <td>415256576.0</td>\n",
       "      <td>415256576.0</td>\n",
       "      <td>12.045828</td>\n",
       "    </tr>\n",
       "    <tr>\n",
       "      <th>1</th>\n",
       "      <td>415248384.0</td>\n",
       "      <td>415248384.0</td>\n",
       "      <td>12.050008</td>\n",
       "    </tr>\n",
       "  </tbody>\n",
       "</table>\n",
       "</div>"
      ],
      "text/plain": [
       "     peak_size  current_size       time\n",
       "0  415256576.0   415256576.0  12.045828\n",
       "1  415248384.0   415248384.0  12.050008"
      ]
     },
     "execution_count": 3,
     "metadata": {},
     "output_type": "execute_result"
    }
   ],
   "source": [
    "mem_time_used_df = get_mem_and_time_of_a_shell('test.sh', time_interval_of_two_traces=2)\n",
    "mem_time_used_df"
   ]
  },
  {
   "cell_type": "code",
   "execution_count": null,
   "id": "c994a6d1-6738-4c87-be1f-8b0320397a92",
   "metadata": {},
   "outputs": [],
   "source": []
  }
 ],
 "metadata": {
  "kernelspec": {
   "display_name": "spateo",
   "language": "python",
   "name": "spateo"
  },
  "language_info": {
   "codemirror_mode": {
    "name": "ipython",
    "version": 3
   },
   "file_extension": ".py",
   "mimetype": "text/x-python",
   "name": "python",
   "nbconvert_exporter": "python",
   "pygments_lexer": "ipython3",
   "version": "3.8.0"
  }
 },
 "nbformat": 4,
 "nbformat_minor": 5
}
