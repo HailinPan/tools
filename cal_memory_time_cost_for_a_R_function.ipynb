{
 "cells": [
  {
   "cell_type": "code",
   "execution_count": 1,
   "id": "56c03080-0741-4443-b808-71484158453c",
   "metadata": {},
   "outputs": [],
   "source": [
    "library(peakRAM)"
   ]
  },
  {
   "cell_type": "markdown",
   "id": "406cb662-d5d8-4873-a243-91f60bfb3ed9",
   "metadata": {},
   "source": [
    "you can use peakRAM funciton in peakRAM package to record memory and time consumption"
   ]
  },
  {
   "cell_type": "markdown",
   "id": "cd78a453-23e9-4828-ba1d-d334d95ba191",
   "metadata": {},
   "source": [
    "# defind the app function you want to record"
   ]
  },
  {
   "cell_type": "code",
   "execution_count": 2,
   "id": "e64f579d-d32d-41d2-a5ae-f8a9846e442c",
   "metadata": {},
   "outputs": [],
   "source": [
    "app <- function(a=10) {\n",
    "    mx <- replicate(a, rnorm(1e6))\n",
    "    return(mx) # this would be neglected by peakRAM\n",
    "}"
   ]
  },
  {
   "cell_type": "markdown",
   "id": "8ec51a9d-dbb0-4952-bcda-233ce6eb129b",
   "metadata": {},
   "source": [
    "# run app function within peakRAM function"
   ]
  },
  {
   "cell_type": "markdown",
   "id": "65cf11c4-63d3-4410-8c1e-c5808d5c1b59",
   "metadata": {},
   "source": [
    "whether app funciton return something or not, peakRAM will not return anything from app"
   ]
  },
  {
   "cell_type": "code",
   "execution_count": 3,
   "id": "6b0da01e-f4bf-4a51-b71a-c248123c21f1",
   "metadata": {},
   "outputs": [
    {
     "data": {
      "text/html": [
       "<table class=\"dataframe\">\n",
       "<caption>A data.frame: 1 × 4</caption>\n",
       "<thead>\n",
       "\t<tr><th></th><th scope=col>Function_Call</th><th scope=col>Elapsed_Time_sec</th><th scope=col>Total_RAM_Used_MiB</th><th scope=col>Peak_RAM_Used_MiB</th></tr>\n",
       "\t<tr><th></th><th scope=col>&lt;chr&gt;</th><th scope=col>&lt;dbl&gt;</th><th scope=col>&lt;dbl&gt;</th><th scope=col>&lt;dbl&gt;</th></tr>\n",
       "</thead>\n",
       "<tbody>\n",
       "\t<tr><th scope=row>1</th><td>app(a=10)</td><td>0.856</td><td>76.3</td><td>228.9</td></tr>\n",
       "</tbody>\n",
       "</table>\n"
      ],
      "text/latex": [
       "A data.frame: 1 × 4\n",
       "\\begin{tabular}{r|llll}\n",
       "  & Function\\_Call & Elapsed\\_Time\\_sec & Total\\_RAM\\_Used\\_MiB & Peak\\_RAM\\_Used\\_MiB\\\\\n",
       "  & <chr> & <dbl> & <dbl> & <dbl>\\\\\n",
       "\\hline\n",
       "\t1 & app(a=10) & 0.856 & 76.3 & 228.9\\\\\n",
       "\\end{tabular}\n"
      ],
      "text/markdown": [
       "\n",
       "A data.frame: 1 × 4\n",
       "\n",
       "| <!--/--> | Function_Call &lt;chr&gt; | Elapsed_Time_sec &lt;dbl&gt; | Total_RAM_Used_MiB &lt;dbl&gt; | Peak_RAM_Used_MiB &lt;dbl&gt; |\n",
       "|---|---|---|---|---|\n",
       "| 1 | app(a=10) | 0.856 | 76.3 | 228.9 |\n",
       "\n"
      ],
      "text/plain": [
       "  Function_Call Elapsed_Time_sec Total_RAM_Used_MiB Peak_RAM_Used_MiB\n",
       "1 app(a=10)     0.856            76.3               228.9            "
      ]
     },
     "metadata": {},
     "output_type": "display_data"
    }
   ],
   "source": [
    "reso_df = peakRAM(app(a=10))\n",
    "reso_df"
   ]
  },
  {
   "cell_type": "code",
   "execution_count": null,
   "id": "b69ec654-8a1c-428b-8162-dbc756305e51",
   "metadata": {},
   "outputs": [],
   "source": []
  }
 ],
 "metadata": {
  "kernelspec": {
   "display_name": "R [conda env:BayesSpace]",
   "language": "R",
   "name": "conda-env-BayesSpace-r"
  },
  "language_info": {
   "codemirror_mode": "r",
   "file_extension": ".r",
   "mimetype": "text/x-r-source",
   "name": "R",
   "pygments_lexer": "r",
   "version": "4.2.0"
  }
 },
 "nbformat": 4,
 "nbformat_minor": 5
}
